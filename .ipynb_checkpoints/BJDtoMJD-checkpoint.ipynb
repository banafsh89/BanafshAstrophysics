{
 "cells": [
  {
   "cell_type": "code",
   "execution_count": 3,
   "id": "a07b2250",
   "metadata": {},
   "outputs": [],
   "source": [
    "from astropy.time import Time\n",
    "from astropy import coordinates as coord\n",
    "from astropy.coordinates import SkyCoord\n",
    "from astropy import units as u\n",
    "from astropy.coordinates import EarthLocation"
   ]
  },
  {
   "cell_type": "code",
   "execution_count": 4,
   "id": "142b9a0f",
   "metadata": {},
   "outputs": [],
   "source": [
    "def bjd_to_mjd(Tbjd,ra,dec):\n",
    "    #time bjd in format of astropy time class\n",
    "    t_bjd = Time(Tbjd, format=\"jd\", scale=\"tdb\")\n",
    "    \n",
    "    #sky coordinate for the source we are observing, ra and dec are in units of degrees in ICRS J2000\n",
    "    sky_coord = SkyCoord(ra, dec, unit=(u.deg, u.deg), frame=\"icrs\")\n",
    "    \n",
    "    #'Input times in BJD, removing barycentric correction'\n",
    "    greenwich = coord.EarthLocation.of_site(\"greenwich\") #greenwich as Fermi also has MJD in UTC Greenwich system\n",
    "    ltt_bary = t_bjd.light_travel_time(sky_coord, location=greenwich, kind=\"barycentric\")\n",
    "    t_utc = (t_bjd - ltt_bary).utc\n",
    "    \n",
    "    #now take the mjd time using astropy\n",
    "    return t_utc.mjd"
   ]
  },
  {
   "cell_type": "code",
   "execution_count": 5,
   "id": "579882da",
   "metadata": {},
   "outputs": [
    {
     "data": {
      "text/plain": [
       "array([58682.85805377, 58682.85666489])"
      ]
     },
     "execution_count": 5,
     "metadata": {},
     "output_type": "execute_result"
    }
   ],
   "source": [
    "tbjd = [2.45868335502523E+06,2.45868335363634E+06]\n",
    "c = SkyCoord('08h06m50.6802916920s', '+69d49m28.109609256s', frame='icrs') #source is 3C371\n",
    "bjd_to_mjd(tbjd,c.ra.deg,c.dec.deg)"
   ]
  },
  {
   "cell_type": "code",
   "execution_count": null,
   "id": "f523df4b",
   "metadata": {},
   "outputs": [],
   "source": []
  }
 ],
 "metadata": {
  "kernelspec": {
   "display_name": "Python 3 (ipykernel)",
   "language": "python",
   "name": "python3"
  },
  "language_info": {
   "codemirror_mode": {
    "name": "ipython",
    "version": 3
   },
   "file_extension": ".py",
   "mimetype": "text/x-python",
   "name": "python",
   "nbconvert_exporter": "python",
   "pygments_lexer": "ipython3",
   "version": "3.9.12"
  }
 },
 "nbformat": 4,
 "nbformat_minor": 5
}
